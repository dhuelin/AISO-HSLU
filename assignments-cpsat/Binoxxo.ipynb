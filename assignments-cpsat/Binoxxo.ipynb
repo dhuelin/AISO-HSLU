{
 "cells": [
  {
   "cell_type": "markdown",
   "metadata": {},
   "source": [
    "# Binoxxo Puzzle"
   ]
  },
  {
   "cell_type": "markdown",
   "metadata": {},
   "source": [
    "Lucerne University of Applied Sciences and Arts - School of Information Technology"
   ]
  },
  {
   "cell_type": "markdown",
   "metadata": {},
   "source": [
    "Place X or O in the empty cells so that there are no more than two consecutive X's or O's in a row or a column.\n",
    "The number of X's is the same as the number of O's in each row and column, and all rows and columns are unique.\n",
    "\n",
    "Find more Binoxxo puzzles [here](https://www.binoxxo.ch/Binoxxo-Raetselbuch/)"
   ]
  },
  {
   "cell_type": "code",
   "execution_count": 84,
   "metadata": {},
   "outputs": [
    {
     "name": "stdout",
     "output_type": "stream",
     "text": [
      "Defaulting to user installation because normal site-packages is not writeable\n",
      "Requirement already satisfied: ortools in /Users/denis_private/Library/Python/3.11/lib/python/site-packages (9.10.4067)\n",
      "Requirement already satisfied: absl-py>=2.0.0 in /Users/denis_private/Library/Python/3.11/lib/python/site-packages (from ortools) (2.1.0)\n",
      "Requirement already satisfied: numpy>=1.13.3 in /Users/denis_private/Library/Python/3.11/lib/python/site-packages (from ortools) (1.26.1)\n",
      "Requirement already satisfied: pandas>=2.0.0 in /usr/local/lib/python3.11/site-packages (from ortools) (2.1.4)\n",
      "Requirement already satisfied: protobuf>=5.26.1 in /Users/denis_private/Library/Python/3.11/lib/python/site-packages (from ortools) (5.26.1)\n",
      "Requirement already satisfied: immutabledict>=3.0.0 in /Users/denis_private/Library/Python/3.11/lib/python/site-packages (from ortools) (4.2.0)\n",
      "Requirement already satisfied: python-dateutil>=2.8.2 in /usr/local/lib/python3.11/site-packages (from pandas>=2.0.0->ortools) (2.8.2)\n",
      "Requirement already satisfied: pytz>=2020.1 in /usr/local/lib/python3.11/site-packages (from pandas>=2.0.0->ortools) (2023.3.post1)\n",
      "Requirement already satisfied: tzdata>=2022.1 in /usr/local/lib/python3.11/site-packages (from pandas>=2.0.0->ortools) (2023.3)\n",
      "Requirement already satisfied: six>=1.5 in /usr/local/lib/python3.11/site-packages (from python-dateutil>=2.8.2->pandas>=2.0.0->ortools) (1.16.0)\n",
      "\n",
      "\u001b[1m[\u001b[0m\u001b[34;49mnotice\u001b[0m\u001b[1;39;49m]\u001b[0m\u001b[39;49m A new release of pip is available: \u001b[0m\u001b[31;49m23.3.1\u001b[0m\u001b[39;49m -> \u001b[0m\u001b[32;49m24.0\u001b[0m\n",
      "\u001b[1m[\u001b[0m\u001b[34;49mnotice\u001b[0m\u001b[1;39;49m]\u001b[0m\u001b[39;49m To update, run: \u001b[0m\u001b[32;49mpython3.11 -m pip install --upgrade pip\u001b[0m\n",
      "Note: you may need to restart the kernel to use updated packages.\n"
     ]
    }
   ],
   "source": [
    "%pip install ortools"
   ]
  },
  {
   "cell_type": "code",
   "execution_count": 85,
   "metadata": {
    "lines_to_next_cell": 1
   },
   "outputs": [],
   "source": [
    "from ortools.sat.python import cp_model\n",
    "from itertools import product"
   ]
  },
  {
   "cell_type": "markdown",
   "metadata": {},
   "source": [
    "Binoxxo puzzle from lecture"
   ]
  },
  {
   "cell_type": "code",
   "execution_count": 86,
   "metadata": {},
   "outputs": [],
   "source": [
    "binoxxo1 = [\n",
    "    [\"\", \"1\", \"\", \"\", \"\", \"\", \"\", \"\", \"\", \"\"],\n",
    "    [\"\", \"\", \"\", \"0\", \"\", \"\", \"\", \"\", \"\", \"\"],\n",
    "    [\"\", \"1\", \"1\", \"\", \"\", \"\", \"\", \"\", \"\", \"\"],\n",
    "    [\"\", \"\", \"\", \"\", \"0\", \"0\", \"\", \"\", \"\", \"0\"],\n",
    "    [\"1\", \"\", \"\", \"\", \"\", \"\", \"1\", \"1\", \"\", \"\"],\n",
    "    [\"\", \"1\", \"\", \"\", \"1\", \"\", \"\", \"\", \"\", \"\"],\n",
    "    [\"\", \"\", \"\", \"0\", \"\", \"\", \"1\", \"\", \"\", \"\"],\n",
    "    [\"\", \"0\", \"\", \"\", \"\", \"\", \"\", \"0\", \"\", \"0\"],\n",
    "    [\"\", \"\", \"\", \"\", \"0\", \"\", \"\", \"\", \"\", \"\"],\n",
    "    [\"0\", \"\", \"\", \"\", \"\", \"\", \"\", \"\", \"\", \"0\"]\n",
    "]"
   ]
  },
  {
   "cell_type": "markdown",
   "metadata": {},
   "source": [
    "And two more examples"
   ]
  },
  {
   "cell_type": "code",
   "execution_count": 87,
   "metadata": {},
   "outputs": [],
   "source": [
    "binoxxo2 = [\n",
    "    [\"\", \"\", \"0\", \"0\", \"\", \"\", \"\", \"\", \"\", \"\"],\n",
    "    [\"\", \"\", \"\", \"0\", \"\", \"\", \"\", \"\", \"\", \"\"],\n",
    "    [\"0\", \"\", \"\", \"\", \"1\", \"\", \"\", \"1\", \"\", \"\"],\n",
    "    [\"\", \"\", \"\", \"\", \"\", \"0\", \"\", \"\", \"\", \"\"],\n",
    "    [\"0\", \"\", \"\", \"0\", \"\", \"\", \"\", \"\", \"\", \"\"],\n",
    "    [\"\", \"\", \"\", \"0\", \"\", \"\", \"\", \"\", \"1\", \"\"],\n",
    "    [\"\", \"\", \"\", \"\", \"\", \"\", \"\", \"1\", \"1\", \"\"],\n",
    "    [\"1\", \"\", \"\", \"\", \"\", \"\", \"\", \"1\", \"\", \"\"],\n",
    "    [\"\", \"\", \"\", \"\", \"\", \"0\", \"\", \"\", \"\", \"0\"],\n",
    "    [\"\", \"\", \"\", \"\", \"1\", \"\", \"0\", \"\", \"\", \"\"]\n",
    "]\n",
    "binoxxo3 = [\n",
    "    [\"1\", \"\", \"\", \"\", \"\", \"\", \"0\", \"0\", \"\", \"\"],\n",
    "    [\"\", \"\", \"\", \"0\", \"\", \"\", \"\", \"\", \"1\", \"\"],\n",
    "    [\"\", \"\", \"0\", \"\", \"\", \"\", \"\", \"\", \"\", \"\"],\n",
    "    [\"\", \"\", \"\", \"0\", \"\", \"1\", \"\", \"\", \"\", \"0\"],\n",
    "    [\"1\", \"\", \"1\", \"\", \"\", \"1\", \"\", \"\", \"1\", \"\"],\n",
    "    [\"\", \"\", \"1\", \"\", \"1\", \"\", \"\", \"\", \"\", \"\"],\n",
    "    [\"\", \"\", \"\", \"\", \"1\", \"1\", \"\", \"\", \"1\", \"\"],\n",
    "    [\"\", \"\", \"\", \"\", \"\", \"\", \"\", \"\", \"\", \"0\"],\n",
    "    [\"\", \"1\", \"\", \"1\", \"\", \"\", \"\", \"\", \"\", \"\"],\n",
    "    [\"\", \"1\", \"\", \"\", \"1\", \"\", \"\", \"1\", \"1\", \"\"]\n",
    "]"
   ]
  },
  {
   "cell_type": "markdown",
   "metadata": {},
   "source": [
    "Pick one of the examples"
   ]
  },
  {
   "cell_type": "code",
   "execution_count": 88,
   "metadata": {},
   "outputs": [],
   "source": [
    "game = binoxxo2"
   ]
  },
  {
   "cell_type": "markdown",
   "metadata": {},
   "source": [
    "Create model"
   ]
  },
  {
   "cell_type": "code",
   "execution_count": 89,
   "metadata": {},
   "outputs": [],
   "source": [
    "model = cp_model.CpModel()"
   ]
  },
  {
   "cell_type": "code",
   "execution_count": 90,
   "metadata": {},
   "outputs": [],
   "source": [
    "boardSize = len(game)\n",
    "\n",
    "sameAmountOfXsAndOs = boardSize // 2\n",
    "\n",
    "board = [[model.NewIntVar(0, 1, f\"({i},{j})\") for j in range(boardSize)] for i in range(boardSize)]\n",
    "\n",
    "# Set values for the given Binoxxo game\n",
    "for i in range(boardSize):\n",
    "    for j in range(boardSize):\n",
    "        if binoxxo2[i][j] in {\"0\", \"1\"}:\n",
    "            model.Add(board[i][j] == int(binoxxo2[i][j]))\n",
    "\n",
    "# Rows and columns cannot be identical\n",
    "for i in range(boardSize):\n",
    "    for j in range(i + 1, boardSize):\n",
    "        diff_vars_row = [model.NewBoolVar(f\"diff_row_{i}_{j}_{k}\") for k in range(boardSize)]\n",
    "        diff_vars_col = [model.NewBoolVar(f\"diff_col_{i}_{j}_{k}\") for k in range(boardSize)]\n",
    "        for k in range(boardSize):\n",
    "            model.Add(board[i][k] != board[j][k]).OnlyEnforceIf(diff_vars_row[k])\n",
    "            model.Add(board[i][k] == board[j][k]).OnlyEnforceIf(diff_vars_row[k].Not())\n",
    "            model.Add(board[k][i] != board[k][j]).OnlyEnforceIf(diff_vars_col[k])\n",
    "            model.Add(board[k][i] == board[k][j]).OnlyEnforceIf(diff_vars_col[k].Not())\n",
    "        model.Add(sum(diff_vars_row) > 0)\n",
    "        model.Add(sum(diff_vars_col) > 0)\n",
    "\n",
    "\n",
    "# No more than two consecutive Xs (1s) or Os (0s) in any row or column\n",
    "for i in range(boardSize):\n",
    "    for j in range(boardSize - 2):\n",
    "        model.Add(sum(board[i][k] for k in range(j, j + 3)) < 3)\n",
    "        model.Add(sum(board[i][k] for k in range(j, j + 3)) > 0)\n",
    "        model.Add(sum(board[k][i] for k in range(j, j + 3)) < 3)\n",
    "        model.Add(sum(board[k][i] for k in range(j, j + 3)) > 0)\n",
    "\n",
    "# Each row and column must have an equal number of Xs (1s) and Os (0s)\n",
    "for i in range(boardSize):\n",
    "    model.Add(sum(board[i][j] for j in range(boardSize)) == sameAmountOfXsAndOs)\n",
    "    model.Add(sum(board[j][i] for j in range(boardSize)) == sameAmountOfXsAndOs)\n"
   ]
  },
  {
   "cell_type": "markdown",
   "metadata": {},
   "source": [
    "Callback for solution printing"
   ]
  },
  {
   "cell_type": "code",
   "execution_count": 91,
   "metadata": {},
   "outputs": [],
   "source": [
    "class SolutionPrinter(cp_model.CpSolverSolutionCallback):\n",
    "    \n",
    "    def __init__(self, variables):\n",
    "        cp_model.CpSolverSolutionCallback.__init__(self)\n",
    "        self.__variables = variables\n",
    "\n",
    "    def on_solution_callback(self):\n",
    "        mapper = {0:'O', 1:'X'}\n",
    "        for i in range(len(self.__variables)):\n",
    "            for j in range(len(self.__variables)):\n",
    "                print(f\"[{mapper[self.Value(self.__variables[i][j])]}] \", end='')\n",
    "            print(\"\\n\")\n",
    "        print(\"\\n\")"
   ]
  },
  {
   "cell_type": "markdown",
   "metadata": {},
   "source": [
    "Solve and print all solutions"
   ]
  },
  {
   "cell_type": "code",
   "execution_count": 92,
   "metadata": {},
   "outputs": [
    {
     "name": "stdout",
     "output_type": "stream",
     "text": [
      "[O] [X] [O] [O] [X] [X] [O] [O] [X] [X] \n",
      "\n",
      "[X] [O] [X] [O] [O] [X] [X] [O] [O] [X] \n",
      "\n",
      "[O] [X] [O] [X] [X] [O] [X] [X] [O] [O] \n",
      "\n",
      "[X] [O] [O] [X] [X] [O] [O] [X] [X] [O] \n",
      "\n",
      "[O] [X] [X] [O] [O] [X] [X] [O] [O] [X] \n",
      "\n",
      "[X] [O] [X] [O] [O] [X] [X] [O] [X] [O] \n",
      "\n",
      "[O] [X] [O] [X] [X] [O] [O] [X] [X] [O] \n",
      "\n",
      "[X] [O] [X] [O] [O] [X] [O] [X] [O] [X] \n",
      "\n",
      "[X] [O] [X] [X] [O] [O] [X] [O] [X] [O] \n",
      "\n",
      "[O] [X] [O] [X] [X] [O] [O] [X] [O] [X] \n",
      "\n",
      "\n",
      "\n"
     ]
    }
   ],
   "source": [
    "solver = cp_model.CpSolver()\n",
    "solver.parameters.enumerate_all_solutions = True\n",
    "status = solver.Solve(model, SolutionPrinter(board))"
   ]
  },
  {
   "cell_type": "code",
   "execution_count": 94,
   "metadata": {},
   "outputs": [
    {
     "name": "stdout",
     "output_type": "stream",
     "text": [
      "Runtime:  0.025387000000000003ms\n"
     ]
    }
   ],
   "source": [
    "print(f\"Runtime:  {solver.WallTime()}ms\")"
   ]
  },
  {
   "cell_type": "code",
   "execution_count": null,
   "metadata": {},
   "outputs": [],
   "source": []
  }
 ],
 "metadata": {
  "jupytext": {
   "cell_metadata_filter": "-all",
   "main_language": "python",
   "notebook_metadata_filter": "-all",
   "text_representation": {
    "extension": ".py",
    "format_name": "percent"
   }
  },
  "kernelspec": {
   "display_name": "Python 3.11.6 64-bit",
   "language": "python",
   "name": "python3"
  },
  "language_info": {
   "codemirror_mode": {
    "name": "ipython",
    "version": 3
   },
   "file_extension": ".py",
   "mimetype": "text/x-python",
   "name": "python",
   "nbconvert_exporter": "python",
   "pygments_lexer": "ipython3",
   "version": "3.11.6"
  },
  "vscode": {
   "interpreter": {
    "hash": "aee8b7b246df8f9039afb4144a1f6fd8d2ca17a180786b69acc140d282b71a49"
   }
  }
 },
 "nbformat": 4,
 "nbformat_minor": 2
}
