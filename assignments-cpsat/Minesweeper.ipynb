{
 "cells": [
  {
   "cell_type": "markdown",
   "metadata": {},
   "source": [
    "# Minesweeper Puzzle"
   ]
  },
  {
   "cell_type": "markdown",
   "metadata": {},
   "source": [
    "Lucerne University of Applied Sciences and Arts - School of Information Technology"
   ]
  },
  {
   "cell_type": "markdown",
   "metadata": {},
   "source": [
    "The player is presented with a grid of squares. Some randomly selected squares, unknown to the player, contain mines. Other squares may display numbers indicating the count of mines present in the immediate neighborhood of the squares. Find all mines. \n",
    "\n",
    "See https://de.wikipedia.org/wiki/Minesweeper or go to http://minesweeperonline.com/ to play"
   ]
  },
  {
   "cell_type": "code",
   "execution_count": null,
   "metadata": {},
   "outputs": [],
   "source": [
    "!pip install ortools"
   ]
  },
  {
   "cell_type": "code",
   "execution_count": null,
   "metadata": {
    "lines_to_next_cell": 1
   },
   "outputs": [],
   "source": [
    "from ortools.sat.python import cp_model\n",
    "from itertools import product"
   ]
  },
  {
   "cell_type": "markdown",
   "metadata": {},
   "source": [
    "Some Minesweeper examples, the first one is from the lecture"
   ]
  },
  {
   "cell_type": "code",
   "execution_count": null,
   "metadata": {},
   "outputs": [],
   "source": [
    "mine_field1 = [\n",
    "    [\"2\", \"\", \"\", \"\", \"1\"],\n",
    "    [\"2\", \"\", \"4\", \"3\", \"\"],\n",
    "    [\"\", \"2\", \"\", \"1\", \"\"],\n",
    "    [\"\", \"1\", \"\", \"3\", \"\"],\n",
    "    [\"1\", \"\", \"\", \"\", \"\"],\n",
    "]\n",
    "mine_field2 = [\n",
    "    [\"1\", \"\", \"\", \"\", \"2\", \"\", \"\", \"1\"],\n",
    "    [\"\", \"1\", \"2\", \"\", \"3\", \"\", \"\", \"1\"],\n",
    "    [\"\", \"2\", \"\", \"1\", \"\", \"\", \"\", \"0\"],\n",
    "    [\"\", \"2\", \"1\", \"\", \"\", \"2\", \"3\", \"1\"],\n",
    "    [\"\", \"\", \"\", \"2\", \"\", \"\", \"\", \"\"],\n",
    "    [\"1\", \"\", \"\", \"\", \"4\", \"3\", \"\", \"\"],\n",
    "    [\"\", \"1\", \"\", \"\", \"4\", \"\", \"3\", \"\"],\n",
    "    [\"1\", \"\", \"\", \"2\", \"\", \"2\", \"\", \"1\"],\n",
    "]\n",
    "mine_field3 = [\n",
    "    [\"\", \"\", \"\", \"\", \"\", \"1\", \"\", \"\"],\n",
    "    [\"1\", \"2\", \"2\", \"1\", \"\", \"\", \"1\", \"1\"],\n",
    "    [\"\", \"1\", \"\", \"\", \"\", \"\", \"\", \"\"],\n",
    "    [\"\", \"\", \"0\", \"\", \"\", \"1\", \"\", \"1\"],\n",
    "    [\"\", \"1\", \"\", \"\", \"\", \"\", \"\", \"\"],\n",
    "    [\"\", \"\", \"1\", \"\", \"2\", \"3\", \"\", \"\"],\n",
    "    [\"\", \"\", \"\", \"\", \"\", \"\", \"2\", \"1\"],\n",
    "    [\"\", \"1\", \"\", \"2\", \"2\", \"\", \"2\", \"\"],\n",
    "]\n",
    "mine_field4 = [\n",
    "    [\"1\", \"\", \"\", \"2\", \"\", \"2\", \"\", \"2\", \"\", \"\"],\n",
    "    [\"\", \"3\", \"2\", \"\", \"\", \"\", \"4\", \"\", \"\", \"1\"],\n",
    "    [\"\", \"\", \"\", \"1\", \"3\", \"\", \"\", \"\", \"4\", \"\"],\n",
    "    [\"3\", \"\", \"1\", \"\", \"\", \"\", \"3\", \"\", \"\", \"\"],\n",
    "    [\"\", \"2\", \"1\", \"\", \"1\", \"\", \"\", \"3\", \"\", \"2\"],\n",
    "    [\"\", \"3\", \"\", \"2\", \"\", \"\", \"2\", \"\", \"1\", \"\"],\n",
    "    [\"2\", \"\", \"\", \"3\", \"2\", \"\", \"\", \"2\", \"\", \"\"],\n",
    "    [\"\", \"3\", \"\", \"\", \"\", \"3\", \"2\", \"\", \"\", \"3\"],\n",
    "    [\"\", \"\", \"3\", \"\", \"3\", \"3\", \"\", \"\", \"\", \"\"],\n",
    "    [\"\", \"2\", \"\", \"2\", \"\", \"\", \"\", \"\", \"2\", \"\"],\n",
    "]"
   ]
  },
  {
   "cell_type": "markdown",
   "metadata": {},
   "source": [
    "Pick one of the examples"
   ]
  },
  {
   "cell_type": "code",
   "execution_count": null,
   "metadata": {},
   "outputs": [],
   "source": [
    "game = mine_field1"
   ]
  },
  {
   "cell_type": "markdown",
   "metadata": {},
   "source": [
    "Create model"
   ]
  },
  {
   "cell_type": "code",
   "execution_count": null,
   "metadata": {},
   "outputs": [],
   "source": [
    "model = cp_model.CpModel()"
   ]
  },
  {
   "cell_type": "code",
   "execution_count": null,
   "metadata": {},
   "outputs": [],
   "source": [
    "# Type your model here ...\n",
    "mines = ..."
   ]
  },
  {
   "cell_type": "markdown",
   "metadata": {},
   "source": [
    "Callback for solution printing"
   ]
  },
  {
   "cell_type": "code",
   "execution_count": null,
   "metadata": {},
   "outputs": [],
   "source": [
    "class SolutionPrinter(cp_model.CpSolverSolutionCallback):\n",
    "    \n",
    "    def __init__(self, variables, game):\n",
    "        cp_model.CpSolverSolutionCallback.__init__(self)\n",
    "        self.__variables = variables\n",
    "        \n",
    "    def on_solution_callback(self):\n",
    "        for i in range(len(self.__variables)):\n",
    "            for j in range(len(self.__variables)):\n",
    "                if self.Value(self.__variables[i][j]) == 1:\n",
    "                    print(\"[💣]\\t\", end='')\n",
    "                elif game[i][j] == \"\":\n",
    "                    print(\"[  ]\\t\", end='')\n",
    "                else:\n",
    "                    print(\"[ {}]\\t\".format(game[i][j]), end='')\n",
    "            print(\"\\n\")\n",
    "        print(\"\\n\\n\")"
   ]
  },
  {
   "cell_type": "markdown",
   "metadata": {},
   "source": [
    "Solve and print all solutions"
   ]
  },
  {
   "cell_type": "code",
   "execution_count": null,
   "metadata": {},
   "outputs": [],
   "source": [
    "solver = cp_model.CpSolver()\n",
    "solver.parameters.enumerate_all_solutions = True\n",
    "status = solver.Solve(model, SolutionPrinter(mines, game))"
   ]
  },
  {
   "cell_type": "code",
   "execution_count": null,
   "metadata": {},
   "outputs": [],
   "source": [
    "print(f\"Runtime:   {solver.WallTime()}ms\")\n",
    "print(f\"Booleans:  {solver.NumBooleans()}\")\n",
    "print(f\"Failures:  {solver.NumConflicts()}\")\n",
    "print(f\"Branches:  {solver.NumBranches()}\")"
   ]
  }
 ],
 "metadata": {
  "jupytext": {
   "cell_metadata_filter": "-all",
   "main_language": "python",
   "notebook_metadata_filter": "-all",
   "text_representation": {
    "extension": ".py",
    "format_name": "percent"
   }
  },
  "kernelspec": {
   "display_name": "Python 3 (ipykernel)",
   "language": "python",
   "name": "python3"
  },
  "language_info": {
   "codemirror_mode": {
    "name": "ipython",
    "version": 3
   },
   "file_extension": ".py",
   "mimetype": "text/x-python",
   "name": "python",
   "nbconvert_exporter": "python",
   "pygments_lexer": "ipython3",
   "version": "3.10.4"
  }
 },
 "nbformat": 4,
 "nbformat_minor": 2
}
