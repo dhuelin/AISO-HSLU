{
 "cells": [
  {
   "cell_type": "markdown",
   "metadata": {},
   "source": [
    "# Sum Frame Sudoku Puzzle"
   ]
  },
  {
   "cell_type": "markdown",
   "metadata": {},
   "source": [
    "Fill in numbers from 1 to 9 so that each row, column and 3x3 block contains each number exactly once.\n",
    "Numbers in the outside frame equal the sum of the first three numbers in the corresponding row or column\n",
    "in the given direction.\n",
    "\n",
    "Find more examples [here](http://frame-sudoku.blogspot.com)"
   ]
  },
  {
   "cell_type": "code",
   "execution_count": 3,
   "metadata": {},
   "outputs": [
    {
     "name": "stdout",
     "output_type": "stream",
     "text": [
      "Defaulting to user installation because normal site-packages is not writeable\n",
      "Requirement already satisfied: ortools in c:\\users\\denis\\appdata\\roaming\\python\\python312\\site-packages (9.9.3963)\n",
      "Requirement already satisfied: absl-py>=2.0.0 in c:\\users\\denis\\appdata\\roaming\\python\\python312\\site-packages (from ortools) (2.1.0)\n",
      "Requirement already satisfied: numpy>=1.13.3 in c:\\users\\denis\\appdata\\roaming\\python\\python312\\site-packages (from ortools) (1.26.1)\n",
      "Requirement already satisfied: pandas>=2.0.0 in c:\\program files\\python312\\lib\\site-packages (from ortools) (2.1.1)\n",
      "Requirement already satisfied: protobuf>=4.25.3 in c:\\users\\denis\\appdata\\roaming\\python\\python312\\site-packages (from ortools) (5.26.1)\n",
      "Requirement already satisfied: immutabledict>=3.0.0 in c:\\users\\denis\\appdata\\roaming\\python\\python312\\site-packages (from ortools) (4.2.0)\n",
      "Requirement already satisfied: python-dateutil>=2.8.2 in c:\\program files\\python312\\lib\\site-packages (from pandas>=2.0.0->ortools) (2.8.2)\n",
      "Requirement already satisfied: pytz>=2020.1 in c:\\program files\\python312\\lib\\site-packages (from pandas>=2.0.0->ortools) (2023.3.post1)\n",
      "Requirement already satisfied: tzdata>=2022.1 in c:\\program files\\python312\\lib\\site-packages (from pandas>=2.0.0->ortools) (2023.3)\n",
      "Requirement already satisfied: six>=1.5 in c:\\program files\\python312\\lib\\site-packages (from python-dateutil>=2.8.2->pandas>=2.0.0->ortools) (1.16.0)\n"
     ]
    }
   ],
   "source": [
    "!pip install ortools"
   ]
  },
  {
   "cell_type": "code",
   "execution_count": 4,
   "metadata": {
    "lines_to_next_cell": 1
   },
   "outputs": [],
   "source": [
    "from ortools.sat.python import cp_model\n",
    "from itertools import product"
   ]
  },
  {
   "cell_type": "markdown",
   "metadata": {},
   "source": [
    "Sudoku puzzle from slides"
   ]
  },
  {
   "cell_type": "code",
   "execution_count": 5,
   "metadata": {},
   "outputs": [],
   "source": [
    "top = [15, 18, 12, 11, 21, 13, 15, 17, 13]\n",
    "right = [22, 8, 15, 22, 12, 11, 15, 13, 17]\n",
    "bottom = [15, 9, 21, 10, 16, 19, 13, 15, 17]\n",
    "left = [8, 15, 22, 11, 13, 21, 18, 19, 8]\n",
    "n = 9"
   ]
  },
  {
   "cell_type": "markdown",
   "metadata": {},
   "source": [
    "And another example (commented out)"
   ]
  },
  {
   "cell_type": "code",
   "execution_count": null,
   "metadata": {},
   "outputs": [],
   "source": [
    "# top = [21, 12, 12, 13, 14, 18, 10, 19, 16]\n",
    "# right = [20, 15, 10, 22, 8, 15, 17, 15, 13]\n",
    "# bottom = [17, 9, 19, 18, 13, 14, 23, 15, 7]\n",
    "# left = [12, 12, 21, 14, 14, 17, 14, 9, 22]"
   ]
  },
  {
   "cell_type": "markdown",
   "metadata": {},
   "source": [
    "Create model"
   ]
  },
  {
   "cell_type": "code",
   "execution_count": 6,
   "metadata": {},
   "outputs": [],
   "source": [
    "model = cp_model.CpModel()"
   ]
  },
  {
   "cell_type": "code",
   "execution_count": 7,
   "metadata": {},
   "outputs": [],
   "source": [
    "# Type your model here ...\n",
    "board = [[model.NewIntVar(1, n, f\"({i},{j})\") for j in range(n)] for i in range(n)]"
   ]
  },
  {
   "cell_type": "code",
   "execution_count": 8,
   "metadata": {},
   "outputs": [],
   "source": [
    "# Each row / column contains only different values:\n",
    "for i in range(n):\n",
    "  model.AddAllDifferent([board[i][j] for j in range(n)]) # Rows\n",
    "  model.AddAllDifferent([board[j][i] for j in range(n)]) # Columns\n",
    "  \n",
    "# Each 3x3 sub-grid contains only different values:\n",
    "for i in range(3):\n",
    "  for j in range(3):\n",
    "    model.AddAllDifferent(\n",
    "      [board[i * 3 + di][j * 3 + dj] for di in range(3) for dj in range(3)])\n",
    "    \n",
    "# 3 column values at the tops sum matches value in array row\n",
    "for i in range(n):\n",
    "  model.Add(cp_model.LinearExpr.Sum([board[i][0], board[i][1], board[i][2]]) == left[i])\n",
    "  model.Add(cp_model.LinearExpr.Sum([board[i][6], board[i][7], board[i][8]]) == right[i])\n",
    "  model.Add(cp_model.LinearExpr.Sum([board[0][i], board[1][i], board[2][i]]) == top[i])\n",
    "  model.Add(cp_model.LinearExpr.Sum([board[6][i], board[7][i], board[8][i]]) == bottom[i])"
   ]
  },
  {
   "cell_type": "markdown",
   "metadata": {},
   "source": [
    "Callback for solution printing (adapt if you do not use an n*n board)"
   ]
  },
  {
   "cell_type": "code",
   "execution_count": 9,
   "metadata": {},
   "outputs": [],
   "source": [
    "class SolutionPrinter(cp_model.CpSolverSolutionCallback):\n",
    "    \n",
    "    def __init__(self, variables):\n",
    "        cp_model.CpSolverSolutionCallback.__init__(self)\n",
    "        self.__variables = variables\n",
    "        \n",
    "    def on_solution_callback(self):\n",
    "        for i in range(len(self.__variables)):\n",
    "            for j in range(len(self.__variables)):\n",
    "                print(f\"[{self.Value(self.__variables[i][j])}] \", end='')\n",
    "            print(\"\\n\")\n",
    "        print(\"\\n\\n\")"
   ]
  },
  {
   "cell_type": "markdown",
   "metadata": {},
   "source": [
    "Solve and print all solutions"
   ]
  },
  {
   "cell_type": "code",
   "execution_count": 10,
   "metadata": {},
   "outputs": [
    {
     "name": "stdout",
     "output_type": "stream",
     "text": [
      "[1] [4] [3] [2] [8] [5] [9] [6] [7] \n",
      "\n",
      "[8] [5] [2] [6] [9] [7] [4] [3] [1] \n",
      "\n",
      "[6] [9] [7] [3] [4] [1] [2] [8] [5] \n",
      "\n",
      "[2] [3] [6] [7] [1] [4] [8] [5] [9] \n",
      "\n",
      "[4] [8] [1] [9] [5] [6] [3] [7] [2] \n",
      "\n",
      "[9] [7] [5] [8] [2] [3] [6] [1] [4] \n",
      "\n",
      "[7] [2] [9] [1] [3] [8] [5] [4] [6] \n",
      "\n",
      "[5] [6] [8] [4] [7] [2] [1] [9] [3] \n",
      "\n",
      "[3] [1] [4] [5] [6] [9] [7] [2] [8] \n",
      "\n",
      "\n",
      "\n",
      "\n"
     ]
    }
   ],
   "source": [
    "solver = cp_model.CpSolver()\n",
    "solver.parameters.enumerate_all_solutions = True\n",
    "status = solver.Solve(model, SolutionPrinter(board))"
   ]
  },
  {
   "cell_type": "code",
   "execution_count": 11,
   "metadata": {},
   "outputs": [
    {
     "name": "stdout",
     "output_type": "stream",
     "text": [
      "Runtime:   0.034972ms\n",
      "Booleans:  0\n",
      "Failures:  0\n",
      "Branches:  0\n"
     ]
    }
   ],
   "source": [
    "print(f\"Runtime:   {solver.WallTime()}ms\")\n",
    "print(f\"Booleans:  {solver.NumBooleans()}\")\n",
    "print(f\"Failures:  {solver.NumConflicts()}\")\n",
    "print(f\"Branches:  {solver.NumBranches()}\")"
   ]
  }
 ],
 "metadata": {
  "jupytext": {
   "cell_metadata_filter": "-all",
   "main_language": "python",
   "notebook_metadata_filter": "-all",
   "text_representation": {
    "extension": ".py",
    "format_name": "percent"
   }
  },
  "kernelspec": {
   "display_name": "Python 3 (ipykernel)",
   "language": "python",
   "name": "python3"
  },
  "language_info": {
   "codemirror_mode": {
    "name": "ipython",
    "version": 3
   },
   "file_extension": ".py",
   "mimetype": "text/x-python",
   "name": "python",
   "nbconvert_exporter": "python",
   "pygments_lexer": "ipython3",
   "version": "3.12.0"
  }
 },
 "nbformat": 4,
 "nbformat_minor": 2
}
