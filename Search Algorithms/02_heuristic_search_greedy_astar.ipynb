{
  "cells": [
    {
      "cell_type": "markdown",
      "metadata": {
        "id": "1exZjj4sl165"
      },
      "source": [
        "# Informed Search Algorithms #\n"
      ]
    },
    {
      "cell_type": "markdown",
      "metadata": {
        "id": "gLvtriG6l167"
      },
      "source": [
        "In the last session, we've implemented different systematic search strategies. If we want to find paths between different cities in a map, we can use additional information to guide our search (a heuristic). We don't rely on the 'blind' search and can implement more efficient algorithms, that consider the coordinates of the SBB hubs and use the aerial distances between them."
      ]
    },
    {
      "cell_type": "markdown",
      "metadata": {
        "id": "N0NFqHirl169"
      },
      "source": [
        "Implement the following algorithms and answer the questions on ILIAS for the **testat** exercise.\n",
        "\n",
        "1. Greedy Search\n",
        "1. A* Algorithm\n",
        "1. IDA* Search (optional, not needed for testat exercise)\n",
        "\n",
        "Hints: \n",
        "- The aerial distance between a node and the goal can be computed with the following function:\n",
        "\n",
        "    `sbb.get_distance_between(node.state, problem.goal)`\n",
        "    \n",
        "\n",
        "-  You will use a prioritq queue for the frontier. You can use the heap library `heapq` for example:\n",
        "\n",
        "    `from heapq import heappush, heappop`\n",
        "\n",
        "    The following line will add the node `node` to the frontier with priority `f`:\n",
        "\n",
        "    `heappush(frontier, (f, node))`\n",
        "\n",
        "    To get the first node (the one with the lowest value of f) use: `node = heappop(frontier)[1]`.\n",
        "    \n",
        "    An example of such a queue is given below.\n",
        "    \n",
        "\n",
        "- Keep track of the number of nodes that are stored simultaneously.\n",
        "\n"
      ]
    },
    {
      "cell_type": "code",
      "execution_count": 11,
      "metadata": {
        "colab": {
          "base_uri": "https://localhost:8080/"
        },
        "id": "J9mlUHWVl16_",
        "outputId": "f21b4e4d-7360-470f-fa70-e0ffdd16ddee"
      },
      "outputs": [
        {
          "name": "stderr",
          "output_type": "stream",
          "text": [
            "Cloning into 'search'...\n"
          ]
        }
      ],
      "source": [
        "!git clone https://github.com/iaherzog/search.git\n",
        "\n",
        "class Graph:\n",
        "\n",
        "    \"\"\"A graph connects nodes by edges.  Each edge can also\n",
        "    have a length associated with it.  The constructor call is something like:\n",
        "        g = Graph({'A': {'B': 1, 'C': 2})\n",
        "    this makes a graph with 3 nodes, A, B, and C, with an edge of length 1 from\n",
        "    A to B,  and an edge of length 2 from A to C.  You can also do:\n",
        "        g = Graph({'A': {'B': 1, 'C': 2}, directed=False)\n",
        "    This makes an undirected graph, so inverse links are also added. The graph\n",
        "    stays undirected; if you add more edges with g.connect('B', 'C', 3), then\n",
        "    inverse link is also added.  You can use g.get_nodes() to get a list of nodes,\n",
        "    g.get_edges('A') to get a dict of edges out of A, and g.get_distance('A', 'B') to get the\n",
        "    length of the edge from A to B. \"\"\"\n",
        "\n",
        "    def __init__(self, graph_dict=None, directed=True):\n",
        "        self.graph_dict = graph_dict or {}\n",
        "        self.directed = directed\n",
        "        if not directed:\n",
        "            self.make_undirected()\n",
        "\n",
        "    def make_undirected(self):\n",
        "        \"\"\"Make a digraph into an undirected graph by adding symmetric edges.\"\"\"\n",
        "        for a in list(self.graph_dict.keys()):\n",
        "            for (b, dist) in self.graph_dict[a].items():\n",
        "                self.add_connection(b, a, dist)\n",
        "\n",
        "    def connect(self, A, B, distance=1):\n",
        "        \"\"\"Add a link from A and B of given distance, and also add the inverse\n",
        "        link if the graph is undirected.\"\"\"\n",
        "        self.add_connection(A, B, distance)\n",
        "        if not self.directed:\n",
        "            self.add_connection(B, A, distance)\n",
        "\n",
        "    def add_connection(self, A, B, distance):\n",
        "        \"\"\"Add a link from A to B of given distance, in one direction only.\"\"\"\n",
        "        self.graph_dict.setdefault(A, {})[B] = distance\n",
        "\n",
        "    def get_edges(self, a):\n",
        "        return self.graph_dict.setdefault(a, {})\n",
        "\n",
        "    def get_distance(self, a, b):\n",
        "        links = self.graph_dict.setdefault(a, {})\n",
        "        return links.get(b)\n",
        "\n",
        "    def get_nodes(self):\n",
        "        \"\"\"Return a list of nodes in the graph.\"\"\"\n",
        "        s1 = set([k for k in self.graph_dict.keys()])\n",
        "        s2 = set([k2 for v in self.graph_dict.values() for k2, v2 in v.items()])\n",
        "        nodes = s1.union(s2)\n",
        "        return list(nodes)\n",
        "\n",
        "\n",
        "def UndirectedGraph(graph_dict=None):\n",
        "    \"\"\"Build a Graph where every edge (including future ones) goes both ways.\"\"\"\n",
        "    return Graph(graph_dict = graph_dict, directed=False)\n",
        "\n",
        "\n",
        "class GraphProblem():\n",
        "\n",
        "    \"\"\"The problem of searching a graph from one node to another.\"\"\"\n",
        "\n",
        "    def __init__(self, initial, goal, graph):\n",
        "        self.initial = initial\n",
        "        self.goal = goal\n",
        "        self.graph = graph\n",
        "\n",
        "    def goal_test(self, state):\n",
        "        \"\"\"Return True if the state is the goal. \"\"\"\n",
        "        return state == self.goal\n",
        "\n",
        "    def get_actions_from(self, A):\n",
        "        \"\"\"The actions at a graph node are just its neighbors.\"\"\"\n",
        "        return list(self.graph.get_edges(A).keys())\n",
        "\n",
        "    def get_path_cost(self, A, B):\n",
        "        return self.graph.get_distance(A, B)\n",
        "\n",
        "\n",
        "\n",
        "class Node:\n",
        "    \"\"\"A node in a search tree.\"\"\"\n",
        "\n",
        "    def __init__(self, state, parent=None, action=None, path_cost=0):\n",
        "        \"\"\"Create a search tree Node, derived from a parent by an action.\"\"\"\n",
        "        self.state = state\n",
        "        self.parent = parent\n",
        "        self.action = action\n",
        "        self.path_cost = path_cost\n",
        "        self.depth = 0\n",
        "        if parent:\n",
        "            self.depth = parent.depth + 1\n",
        "\n",
        "    def expand(self, problem):\n",
        "        \"\"\"List the nodes reachable in one step from this node.\"\"\"\n",
        "        actions = problem.get_actions_from(self.state)\n",
        "        successors = []\n",
        "        for action in actions:\n",
        "            successors.append(self.create_child_node(problem, action))\n",
        "        return successors\n",
        "\n",
        "    def create_child_node(self, problem, action):\n",
        "        next_state = action\n",
        "        next_node = Node(next_state, parent=self, action=action,\n",
        "                         path_cost=self.path_cost + problem.get_path_cost(self.state, next_state))\n",
        "        return next_node\n",
        "\n",
        "    def get_path_from_root(self):\n",
        "        \"\"\"Return a list of nodes forming the path from the root to this node.\"\"\"\n",
        "        node, path_back = self, []\n",
        "        while node:\n",
        "            path_back.append(node)\n",
        "            node = node.parent\n",
        "        return list(reversed(path_back))\n",
        "\n",
        "    def get_solution(self):\n",
        "        \"\"\"Return the sequence of actions to go from the root to this node.\"\"\"\n",
        "        return [node.action for node in self.get_path_from_root()[1:]]\n"
      ]
    },
    {
      "cell_type": "code",
      "execution_count": 12,
      "metadata": {
        "colab": {
          "base_uri": "https://localhost:8080/"
        },
        "id": "QsOE6zmpmhVU",
        "outputId": "1d50fd08-2db0-47d3-84d6-230ea580724a"
      },
      "outputs": [
        {
          "name": "stdout",
          "output_type": "stream",
          "text": [
            "(5, 'node_with_priority_5')\n"
          ]
        }
      ],
      "source": [
        "import sys\n",
        "sys.path.append('content/search')\n",
        "\n",
        "from heapq import heappush, heappop\n",
        "priority_queue = []\n",
        "\n",
        "heappush(priority_queue, (10, 'node_with_priority_10'))\n",
        "heappush(priority_queue, (20, 'node_with_priority_20'))\n",
        "heappush(priority_queue, (5, 'node_with_priority_5'))\n",
        "\n",
        "# get the element with the lowest value (note, the following function returns both the priority and the element)\n",
        "print(heappop(priority_queue))"
      ]
    },
    {
      "cell_type": "code",
      "execution_count": 13,
      "metadata": {
        "id": "OLrIBw6rl17A"
      },
      "outputs": [],
      "source": [
        "# implement the informed search algorithms here\n",
        "# problem is an instance of the GraphProblem class defined in search.py\n",
        "# and heuristic is a function that takes two arguments (node.state, goal_node.state) and calculates h(node)\n",
        "\n",
        "def greedy_search(problem, heuristic):\n",
        "    node = Node(problem.initial)\n",
        "\n",
        "    frontier = []\n",
        "    explored = set()\n",
        "    highest_amt_stored_nodes = 1;\n",
        "\n",
        "    heappush(frontier, (heuristic(problem.goal, node.state), node))\n",
        "\n",
        "    while len(frontier) > 0:\n",
        "      node = heappop(frontier)[1]\n",
        "\n",
        "      if highest_amt_stored_nodes < len(frontier):\n",
        "            highest_amt_stored_nodes = len(frontier)\n",
        "\n",
        "      if problem.goal_test(node.state):\n",
        "        print(\"Nodes still left: \", len(frontier), \"explored: \", len(explored), \"most simultaneously stored nodes: \", highest_amt_stored_nodes)\n",
        "        return node\n",
        "      \n",
        "      explored.add(node.state)\n",
        "      for childNode in node.expand(problem):\n",
        "            if childNode.state not in explored and not childNode.state in (x[1].state for x in frontier):\n",
        "                distance = heuristic(problem.goal, childNode.state)\n",
        "                heappush(frontier, (distance, childNode))         \n",
        "    return None\n",
        "\n",
        "def a_star_search(problem, heuristic):\n",
        "    node = Node(problem.initial)\n",
        "\n",
        "    frontier = []\n",
        "    explored = set()\n",
        "    highest_amt_stored_nodes = 1;\n",
        "    \n",
        "    f_n = heuristic(problem.goal, node.state)\n",
        "    heappush(frontier, (f_n, node))\n",
        "\n",
        "    while len(frontier) > 0:\n",
        "      node = heappop(frontier)[1]\n",
        "\n",
        "      if highest_amt_stored_nodes < len(frontier):\n",
        "            highest_amt_stored_nodes = len(frontier)\n",
        "\n",
        "      if problem.goal_test(node.state):\n",
        "        print(\"Nodes still left: \", len(frontier), \"explored: \", len(explored), \"most simultaneously stored nodes: \", highest_amt_stored_nodes)\n",
        "        return node\n",
        "      \n",
        "      explored.add(node.state)\n",
        "      for childNode in node.expand(problem):\n",
        "            if childNode.state not in explored and not childNode.state in (x[1].state for x in frontier):\n",
        "                distance = heuristic(problem.goal, childNode.state) + childNode.path_cost\n",
        "                heappush(frontier, (distance, childNode))         \n",
        "    return None\n",
        "\n",
        "def ida_star_search(problem, heuristic):\n",
        "    # Note: this algorithm is not needed to pass the testat\n",
        "    raise NotImplementedError"
      ]
    },
    {
      "cell_type": "markdown",
      "metadata": {
        "id": "V4k8S0Ayl17B"
      },
      "source": [
        "### Test your algorithms with the Romanian text book example or with the SBB map"
      ]
    },
    {
      "cell_type": "markdown",
      "metadata": {
        "id": "XWW24KBdl17C"
      },
      "source": [
        "1. Romania"
      ]
    },
    {
      "cell_type": "code",
      "execution_count": 14,
      "metadata": {
        "id": "Aurk-ofhl17D"
      },
      "outputs": [],
      "source": [
        "from math import sqrt, pow\n",
        "\n",
        "romania_graph = UndirectedGraph(dict(\n",
        "    Arad=dict(Zerind=75, Sibiu=140, Timisoara=118),\n",
        "    Bucharest=dict(Urziceni=85, Pitesti=101, Giurgiu=90, Fagaras=211),\n",
        "    Craiova=dict(Drobeta=120, Rimnicu=146, Pitesti=138),\n",
        "    Drobeta=dict(Mehadia=75),\n",
        "    Eforie=dict(Hirsova=86),\n",
        "    Fagaras=dict(Sibiu=99),\n",
        "    Hirsova=dict(Urziceni=98),\n",
        "    Iasi=dict(Vaslui=92, Neamt=87),\n",
        "    Lugoj=dict(Timisoara=111, Mehadia=70),\n",
        "    Oradea=dict(Zerind=71, Sibiu=151),\n",
        "    Pitesti=dict(Rimnicu=97),\n",
        "    Rimnicu=dict(Sibiu=80),\n",
        "    Urziceni=dict(Vaslui=142)))\n",
        "\n",
        "romania_graph.locations = dict(\n",
        "    Arad=(91, 492), Bucharest=(400, 327), Craiova=(253, 288),\n",
        "    Drobeta=(165, 299), Eforie=(562, 293), Fagaras=(305, 449),\n",
        "    Giurgiu=(375, 270), Hirsova=(534, 350), Iasi=(473, 506),\n",
        "    Lugoj=(165, 379), Mehadia=(168, 339), Neamt=(406, 537),\n",
        "    Oradea=(131, 571), Pitesti=(320, 368), Rimnicu=(233, 410),\n",
        "    Sibiu=(207, 457), Timisoara=(94, 410), Urziceni=(456, 350),\n",
        "    Vaslui=(509, 444), Zerind=(108, 531))\n",
        "\n",
        "start = 'Arad'\n",
        "goal = 'Bucharest'\n",
        "problem = GraphProblem(start, goal, romania_graph)\n",
        "\n",
        "# Define a heuristic function\n",
        "# this calculates the aerial distance between two cities\n",
        "def heuristic(a, b):\n",
        "    x1, y1 = romania_graph.locations[a]\n",
        "    x2, y2 = romania_graph.locations[b]\n",
        "    return sqrt( pow(x1-x2, 2) + pow(y1-y2, 2))\n"
      ]
    },
    {
      "cell_type": "markdown",
      "metadata": {
        "id": "LUR0-saVl17E"
      },
      "source": [
        "To evaluate the goal node, try this function:"
      ]
    },
    {
      "cell_type": "code",
      "execution_count": 15,
      "metadata": {
        "id": "DbHDp88kl17E"
      },
      "outputs": [],
      "source": [
        "def evaluate(node):\n",
        "    if node:\n",
        "        print(\"The search algorithm reached \" + node.state + \" with a cost of \" + str(node.path_cost) + \".\")\n",
        "        print(\"The actions that led to the solutions are the following: \")\n",
        "        print(node.get_solution())\n",
        "    else: \n",
        "        print('no solution found')\n"
      ]
    },
    {
      "cell_type": "markdown",
      "metadata": {
        "id": "vbjLWE32l17F"
      },
      "source": [
        "2. SBB"
      ]
    },
    {
      "cell_type": "code",
      "execution_count": 16,
      "metadata": {},
      "outputs": [],
      "source": [
        "import json\n",
        "import operator\n",
        "import math\n",
        "\n",
        "\n",
        "class TrainLine:\n",
        "    def __init__(self, id, name):\n",
        "        self.id = id\n",
        "        self.name = name\n",
        "        self.hubs = []\n",
        "        self.hub_location = dict()\n",
        "\n",
        "    def add_hub_at_km(self, hub, km):\n",
        "        self.hubs.append(hub)\n",
        "        self.hub_location[hub.name] = km\n",
        "\n",
        "    def get_sorted_hubs(self):\n",
        "        return sorted(self.hub_location.items(), key=operator.itemgetter(1))\n",
        "\n",
        "\n",
        "class Hub:\n",
        "\n",
        "    def __init__(self, name=\"\", x=0, y=0):\n",
        "        self.name = name\n",
        "        self.x = x\n",
        "        self.y = y\n",
        "\n",
        "    def get_coordinates(self):\n",
        "        return self.x, self.y\n",
        "\n",
        "\n",
        "class SBB:\n",
        "    def __init__(self):\n",
        "        self.hubs = dict()\n",
        "        self._train_lines = dict()\n",
        "\n",
        "    def import_data(self, json_file_name):\n",
        "        with open(json_file_name) as f:\n",
        "            lines = json.load(f)\n",
        "        for j in lines:\n",
        "            if 'fields' not in j:\n",
        "                continue\n",
        "            train_line_id = j['fields']['linie']\n",
        "            if train_line_id not in self._train_lines:\n",
        "                train_line_name = j['fields']['linienname']\n",
        "                self._train_lines[train_line_id] = TrainLine(train_line_id, train_line_name)\n",
        "            hub = Hub()\n",
        "            hub.name = treat_string(j['fields']['bezeichnung_bpk'])\n",
        "            hub.x = j['fields']['geopos'][0]\n",
        "            hub.y = j['fields']['geopos'][1]\n",
        "            km = j['fields']['km']\n",
        "\n",
        "            self._train_lines[train_line_id].add_hub_at_km(hub, km)\n",
        "            self.hubs[hub.name] = hub\n",
        "\n",
        "        print('successfully imported ' + str(len(self.hubs)) + ' hubs')\n",
        "        print('successfully imported ' + str(len(self._train_lines)) + ' train lines')\n",
        "\n",
        "    def create_map(self):\n",
        "        map = dict()\n",
        "        for line in self._train_lines:\n",
        "            previous_hub_name = \"\"\n",
        "            previous_km = -1\n",
        "            for h in self._train_lines[line].get_sorted_hubs():\n",
        "                hub_name = h[0]\n",
        "                km = h[1]\n",
        "                if previous_hub_name:\n",
        "                    distance = abs(km - previous_km)\n",
        "                    map.setdefault(hub_name, dict())\n",
        "                    map.setdefault(previous_hub_name, dict())\n",
        "                    map[hub_name].setdefault(previous_hub_name)\n",
        "                    map[previous_hub_name].setdefault(hub_name)\n",
        "                    map[hub_name][previous_hub_name] = distance\n",
        "                    map[previous_hub_name][hub_name] = distance\n",
        "                previous_hub_name = hub_name\n",
        "                previous_km = km\n",
        "        return map\n",
        "\n",
        "    def get_hub_locations(self):\n",
        "        locations = dict()\n",
        "        for h in self.hubs:\n",
        "            locations[h] = self.hubs[h].get_coordinates()\n",
        "        return locations\n",
        "\n",
        "    def get_distance_between(self, h1, h2):\n",
        "        return math.sqrt((self.hubs[h1].x - self.hubs[h2].x) ** 2 + (self.hubs[h1].y - self.hubs[h2].y) ** 2) * 100\n",
        "\n",
        "\n",
        "def treat_string(name):\n",
        "    name = name.replace(\" \", \"_\")\n",
        "    name = name.replace('(', \"\")\n",
        "    return name.replace(')', \"\")\n"
      ]
    },
    {
      "cell_type": "code",
      "execution_count": 18,
      "metadata": {
        "colab": {
          "base_uri": "https://localhost:8080/"
        },
        "id": "40vL63dml17G",
        "outputId": "237b01fc-a3d8-4648-f336-7fd999ff0fe7"
      },
      "outputs": [
        {
          "name": "stdout",
          "output_type": "stream",
          "text": [
            "successfully imported 2787 hubs\n",
            "successfully imported 401 train lines\n"
          ]
        }
      ],
      "source": [
        "sbb = SBB()\n",
        "sbb.import_data('content/search/linie-mit-betriebspunkten.json')\n",
        "\n",
        "start = 'Rotkreuz'\n",
        "goal = 'Zermatt'\n",
        "sbb_map = UndirectedGraph(sbb.create_map())\n",
        "problem = GraphProblem(start, goal, sbb_map)\n",
        "\n",
        "heuristic = sbb.get_distance_between"
      ]
    },
    {
      "cell_type": "markdown",
      "metadata": {
        "id": "Sk88n43Bl17H"
      },
      "source": [
        "To visaulize the map and the solution, use the following functions:"
      ]
    },
    {
      "cell_type": "code",
      "execution_count": 19,
      "metadata": {
        "id": "iIjj5b6Ml17H"
      },
      "outputs": [
        {
          "ename": "ValueError",
          "evalue": "Custom tiles must have an attribution.",
          "output_type": "error",
          "traceback": [
            "\u001b[1;31m---------------------------------------------------------------------------\u001b[0m",
            "\u001b[1;31mValueError\u001b[0m                                Traceback (most recent call last)",
            "Cell \u001b[1;32mIn[19], line 3\u001b[0m\n\u001b[0;32m      1\u001b[0m \u001b[38;5;28;01mimport\u001b[39;00m \u001b[38;5;21;01mfolium\u001b[39;00m\n\u001b[1;32m----> 3\u001b[0m map_ch \u001b[38;5;241m=\u001b[39m \u001b[43mfolium\u001b[49m\u001b[38;5;241;43m.\u001b[39;49m\u001b[43mMap\u001b[49m\u001b[43m(\u001b[49m\u001b[43mlocation\u001b[49m\u001b[38;5;241;43m=\u001b[39;49m\u001b[43m[\u001b[49m\u001b[38;5;241;43m46.8\u001b[39;49m\u001b[43m,\u001b[49m\u001b[43m \u001b[49m\u001b[38;5;241;43m8.33\u001b[39;49m\u001b[43m]\u001b[49m\u001b[43m,\u001b[49m\n\u001b[0;32m      4\u001b[0m \u001b[43m                    \u001b[49m\u001b[43mzoom_start\u001b[49m\u001b[38;5;241;43m=\u001b[39;49m\u001b[38;5;241;43m8\u001b[39;49m\u001b[43m,\u001b[49m\u001b[43m \u001b[49m\u001b[43mtiles\u001b[49m\u001b[38;5;241;43m=\u001b[39;49m\u001b[38;5;124;43m\"\u001b[39;49m\u001b[38;5;124;43mStamen Toner\u001b[39;49m\u001b[38;5;124;43m\"\u001b[39;49m\u001b[43m)\u001b[49m\n\u001b[0;32m      6\u001b[0m \u001b[38;5;28;01mfor\u001b[39;00m hub \u001b[38;5;129;01min\u001b[39;00m sbb\u001b[38;5;241m.\u001b[39mhubs:\n\u001b[0;32m      7\u001b[0m     folium\u001b[38;5;241m.\u001b[39mCircleMarker(location\u001b[38;5;241m=\u001b[39m[sbb\u001b[38;5;241m.\u001b[39mhubs[hub]\u001b[38;5;241m.\u001b[39mx, sbb\u001b[38;5;241m.\u001b[39mhubs[hub]\u001b[38;5;241m.\u001b[39my],\n\u001b[0;32m      8\u001b[0m                         radius\u001b[38;5;241m=\u001b[39m\u001b[38;5;241m2\u001b[39m,\n\u001b[0;32m      9\u001b[0m                         weight\u001b[38;5;241m=\u001b[39m\u001b[38;5;241m4\u001b[39m)\u001b[38;5;241m.\u001b[39madd_to(map_ch)\n",
            "File \u001b[1;32m~\\AppData\\Roaming\\Python\\Python312\\site-packages\\folium\\folium.py:308\u001b[0m, in \u001b[0;36mMap.__init__\u001b[1;34m(self, location, width, height, left, top, position, tiles, attr, min_zoom, max_zoom, zoom_start, min_lat, max_lat, min_lon, max_lon, max_bounds, crs, control_scale, prefer_canvas, no_touch, disable_3d, png_enabled, zoom_control, font_size, **kwargs)\u001b[0m\n\u001b[0;32m    306\u001b[0m     \u001b[38;5;28mself\u001b[39m\u001b[38;5;241m.\u001b[39madd_child(tiles)\n\u001b[0;32m    307\u001b[0m \u001b[38;5;28;01melif\u001b[39;00m tiles:\n\u001b[1;32m--> 308\u001b[0m     tile_layer \u001b[38;5;241m=\u001b[39m \u001b[43mTileLayer\u001b[49m\u001b[43m(\u001b[49m\n\u001b[0;32m    309\u001b[0m \u001b[43m        \u001b[49m\u001b[43mtiles\u001b[49m\u001b[38;5;241;43m=\u001b[39;49m\u001b[43mtiles\u001b[49m\u001b[43m,\u001b[49m\u001b[43m \u001b[49m\u001b[43mattr\u001b[49m\u001b[38;5;241;43m=\u001b[39;49m\u001b[43mattr\u001b[49m\u001b[43m,\u001b[49m\u001b[43m \u001b[49m\u001b[43mmin_zoom\u001b[49m\u001b[38;5;241;43m=\u001b[39;49m\u001b[43mmin_zoom\u001b[49m\u001b[43m,\u001b[49m\u001b[43m \u001b[49m\u001b[43mmax_zoom\u001b[49m\u001b[38;5;241;43m=\u001b[39;49m\u001b[43mmax_zoom\u001b[49m\n\u001b[0;32m    310\u001b[0m \u001b[43m    \u001b[49m\u001b[43m)\u001b[49m\n\u001b[0;32m    311\u001b[0m     \u001b[38;5;28mself\u001b[39m\u001b[38;5;241m.\u001b[39madd_child(tile_layer, name\u001b[38;5;241m=\u001b[39mtile_layer\u001b[38;5;241m.\u001b[39mtile_name)\n",
            "File \u001b[1;32m~\\AppData\\Roaming\\Python\\Python312\\site-packages\\folium\\raster_layers.py:140\u001b[0m, in \u001b[0;36mTileLayer.__init__\u001b[1;34m(self, tiles, min_zoom, max_zoom, max_native_zoom, attr, detect_retina, name, overlay, control, show, no_wrap, subdomains, tms, opacity, **kwargs)\u001b[0m\n\u001b[0;32m    138\u001b[0m \u001b[38;5;28mself\u001b[39m\u001b[38;5;241m.\u001b[39mtiles \u001b[38;5;241m=\u001b[39m tiles\n\u001b[0;32m    139\u001b[0m \u001b[38;5;28;01mif\u001b[39;00m \u001b[38;5;129;01mnot\u001b[39;00m attr:\n\u001b[1;32m--> 140\u001b[0m     \u001b[38;5;28;01mraise\u001b[39;00m \u001b[38;5;167;01mValueError\u001b[39;00m(\u001b[38;5;124m\"\u001b[39m\u001b[38;5;124mCustom tiles must have an attribution.\u001b[39m\u001b[38;5;124m\"\u001b[39m)\n\u001b[0;32m    142\u001b[0m \u001b[38;5;28mself\u001b[39m\u001b[38;5;241m.\u001b[39moptions \u001b[38;5;241m=\u001b[39m parse_options(\n\u001b[0;32m    143\u001b[0m     min_zoom\u001b[38;5;241m=\u001b[39mmin_zoom,\n\u001b[0;32m    144\u001b[0m     max_zoom\u001b[38;5;241m=\u001b[39mmax_zoom,\n\u001b[1;32m   (...)\u001b[0m\n\u001b[0;32m    152\u001b[0m     \u001b[38;5;241m*\u001b[39m\u001b[38;5;241m*\u001b[39mkwargs,\n\u001b[0;32m    153\u001b[0m )\n",
            "\u001b[1;31mValueError\u001b[0m: Custom tiles must have an attribution."
          ]
        }
      ],
      "source": [
        "import folium\n",
        "\n",
        "map_ch = folium.Map(location=[46.8, 8.33],\n",
        "                    zoom_start=8, tiles=\"Stamen Toner\")\n",
        "\n",
        "for hub in sbb.hubs:\n",
        "    folium.CircleMarker(location=[sbb.hubs[hub].x, sbb.hubs[hub].y],\n",
        "                        radius=2,\n",
        "                        weight=4).add_to(map_ch)\n",
        "map_ch\n"
      ]
    },
    {
      "cell_type": "code",
      "execution_count": 20,
      "metadata": {
        "id": "u28r24jml17H"
      },
      "outputs": [],
      "source": [
        "def show_solution(map, goal_node):\n",
        "      \n",
        "    points = []\n",
        "    \n",
        "    for hub in goal_node.get_path_from_root():\n",
        "        points.append([sbb.hubs[hub.state].x, sbb.hubs[hub.state].y])\n",
        "        folium.CircleMarker(location=[sbb.hubs[hub.state].x, sbb.hubs[hub.state].y], color='red',\n",
        "                        radius=2,\n",
        "                        weight=4).add_to(map)\n",
        "    folium.PolyLine(points, color='red').add_to(map)\n",
        "    return map\n",
        "\n",
        "\n"
      ]
    },
    {
      "cell_type": "code",
      "execution_count": 22,
      "metadata": {
        "colab": {
          "base_uri": "https://localhost:8080/"
        },
        "id": "dEuS2Bhhl17I",
        "outputId": "b4e20d76-98ba-420f-d4bd-cf11d1bd7cc5"
      },
      "outputs": [
        {
          "name": "stdout",
          "output_type": "stream",
          "text": [
            "Nodes still left:  13 explored:  2217 most simultaneously stored nodes:  28\n",
            "359.0819999999998\n"
          ]
        }
      ],
      "source": [
        "import itertools\n",
        "\n",
        "goal_node = greedy_search(problem, heuristic)\n",
        "print(goal_node.path_cost)"
      ]
    },
    {
      "cell_type": "code",
      "execution_count": 23,
      "metadata": {
        "id": "DtNqkFrChRlW"
      },
      "outputs": [
        {
          "ename": "NameError",
          "evalue": "name 'map_ch' is not defined",
          "output_type": "error",
          "traceback": [
            "\u001b[1;31m---------------------------------------------------------------------------\u001b[0m",
            "\u001b[1;31mNameError\u001b[0m                                 Traceback (most recent call last)",
            "Cell \u001b[1;32mIn[23], line 1\u001b[0m\n\u001b[1;32m----> 1\u001b[0m show_solution(\u001b[43mmap_ch\u001b[49m, goal_node)\n",
            "\u001b[1;31mNameError\u001b[0m: name 'map_ch' is not defined"
          ]
        }
      ],
      "source": [
        "show_solution(map_ch, goal_node)"
      ]
    },
    {
      "cell_type": "code",
      "execution_count": 44,
      "metadata": {
        "colab": {
          "base_uri": "https://localhost:8080/"
        },
        "id": "nZyklnTijrz1",
        "outputId": "cfccb2f5-58ca-4768-b497-2ecffd15abe5"
      },
      "outputs": [
        {
          "name": "stdout",
          "output_type": "stream",
          "text": [
            "Nodes still left:  33 explored:  2021 most simultaneously stored nodes:  42\n",
            "330.9589999999999\n"
          ]
        }
      ],
      "source": [
        "goal_node = a_star_search(problem, heuristic)\n",
        "print(goal_node.path_cost)\n",
        "# show_solution(map_ch, goal_node)"
      ]
    }
  ],
  "metadata": {
    "colab": {
      "provenance": []
    },
    "kernelspec": {
      "display_name": "Python 3",
      "language": "python",
      "name": "python3"
    },
    "language_info": {
      "codemirror_mode": {
        "name": "ipython",
        "version": 3
      },
      "file_extension": ".py",
      "mimetype": "text/x-python",
      "name": "python",
      "nbconvert_exporter": "python",
      "pygments_lexer": "ipython3",
      "version": "3.12.0"
    }
  },
  "nbformat": 4,
  "nbformat_minor": 0
}
